{
 "cells": [
  {
   "cell_type": "markdown",
   "metadata": {
    "id": "dTdJBcGFHOQs"
   },
   "source": [
    "## Build Model"
   ]
  },
  {
   "cell_type": "markdown",
   "metadata": {
    "id": "Gu5s_5PuHr6b"
   },
   "source": [
    "Libraries"
   ]
  },
  {
   "cell_type": "code",
   "execution_count": 2,
   "metadata": {
    "id": "NGB3sK6hHRqg"
   },
   "outputs": [],
   "source": [
    "import numpy as np\n",
    "import pandas as pd\n",
    "import sklearn\n",
    "import joblib\n",
    "from sklearn.model_selection import train_test_split\n",
    "from sklearn.preprocessing import StandardScaler, OrdinalEncoder\n",
    "from sklearn.metrics import mean_squared_log_error\n",
    "from sklearn.metrics import make_scorer\n",
    "from sklearn.ensemble import HistGradientBoostingClassifier, HistGradientBoostingRegressor\n",
    "from typing import Union, List\n"
   ]
  },
  {
   "cell_type": "markdown",
   "metadata": {
    "id": "uWu5twQEHu4m"
   },
   "source": [
    "Global Variables"
   ]
  },
  {
   "cell_type": "code",
   "execution_count": 3,
   "metadata": {
    "id": "TNWTnH-lHzUx"
   },
   "outputs": [],
   "source": [
    "#path variables\n",
    "path_to_file = '../data/processed_df.parquet' \n",
    "model_store = '../models/model.joblib'    \n",
    "model_encoder_1 = '../models/encoder.joblib'    \n",
    "model_scaler_1 = '../models/scaler.joblib'    \n",
    "\n",
    "target = 'SalePrice'\n",
    "feature_list = ['Id', 'LotArea', 'YearBuilt', 'BsmtFinSF1', 'BedroomAbvGr',\n",
    "                 'KitchenAbvGr', 'GarageArea',\n",
    "                 '1stFlrSF', 'MSZoning', 'Heating']\n",
    "\n",
    "# identifying and splitting features into continuous and categorical\n",
    "numeric_features = ['Id', 'LotArea', 'YearBuilt',\n",
    "                 'BsmtFinSF1', 'BedroomAbvGr',\n",
    "                    'KitchenAbvGr', 'GarageArea','1stFlrSF']\n",
    "\n",
    "categorical_features = ['MSZoning', 'Heating']\n",
    "\n",
    "df = pd.read_parquet(path_to_file)\n",
    "\n",
    "\n"
   ]
  },
  {
   "cell_type": "markdown",
   "metadata": {},
   "source": [
    "Processing functions"
   ]
  },
  {
   "cell_type": "code",
   "execution_count": 4,
   "metadata": {
    "id": "tYI1CIfGa7wb"
   },
   "outputs": [],
   "source": [
    "def scale_numeric(df):\n",
    "  scaler = StandardScaler()\n",
    "  scaler.fit(df[numeric_features])\n",
    "  scaled_data = scaler.transform(df[numeric_features])\n",
    "  scaled_df = pd.DataFrame(data=scaled_data, columns=numeric_features)\n",
    "  joblib.dump(scaler, model_scaler_1)\n",
    "  return scaled_df\n",
    "\n",
    "\n",
    "def encode_categorical(df):\n",
    "  encoder = OrdinalEncoder()\n",
    "  encoder.fit(df[categorical_features])\n",
    "  encoded_data = encoder.transform(df[categorical_features])\n",
    "  encoded_df = pd.DataFrame(data=encoded_data, columns=categorical_features)\n",
    "  joblib.dump(encoder, model_encoder_1)\n",
    "  return encoded_df\n",
    "\n",
    "\n",
    "# This function holds the target variable if it is trained\n",
    "# data in a bid to reunite it with its features\n",
    "def hold_on_target(df: pd.DataFrame) -> Union[pd.DataFrame, None]:\n",
    "    if target in df.columns:\n",
    "        held_target = df[target]\n",
    "        held_df = pd.DataFrame(held_target)\n",
    "        return held_df\n",
    "    else:\n",
    "        return None\n",
    "\n",
    "\n",
    "# In a training data, this function recombines the scaled\n",
    "# and encoded data with the target for the purpose of training\n",
    "def comb_scal_enco(*dfs: List[pd.DataFrame]) -> pd.DataFrame:\n",
    "    if len(dfs) == 3:\n",
    "        merged_coders = dfs[0].join(dfs[1]).join(dfs[2])\n",
    "    elif len(dfs) == 2:\n",
    "        merged_coders = dfs[0].join(dfs[1])\n",
    "    else:\n",
    "        raise ValueError(\"The function requires 2 or 3 DataFrames\")\n",
    "    return merged_coders\n",
    "\n",
    "\n",
    "def preprocessing_step(df):\n",
    "   #scaling\n",
    "  output_scale = scale_numeric(df)\n",
    "  #encode cat\n",
    "  output_encode = encode_categorical(df)\n",
    "  #holding taget in place\n",
    "  output_hold = hold_on_target(df)\n",
    "  #Feature engineering by combining\n",
    "  preprocessed_output = comb_scal_enco(output_scale, output_encode, output_hold)\n",
    "  return preprocessed_output\n"
   ]
  },
  {
   "cell_type": "markdown",
   "metadata": {
    "id": "T2haK2BbrQ8p"
   },
   "source": [
    "Model Building"
   ]
  },
  {
   "cell_type": "code",
   "execution_count": 5,
   "metadata": {
    "id": "55iIDV4_MDF6"
   },
   "outputs": [],
   "source": [
    "def training_data(preprocessed_df):\n",
    "    # Splitting the data\n",
    "    X, y = preprocessed_df.drop([target], axis=1), preprocessed_df[target]\n",
    "    X_train, X_val, y_train, y_val = train_test_split(X, y, test_size=0.2, random_state=42)\n",
    "\n",
    "    # Training the model\n",
    "    hgb_regressor = HistGradientBoostingRegressor()\n",
    "    trained_model = hgb_regressor.fit(X_train, y_train)\n",
    "    joblib.dump(hgb_regressor, model_store)\n",
    "    return X_val, y_val, trained_model\n",
    "\n",
    "\n",
    "\n",
    "\n",
    "def evaluation_trained_model(X_val, y_val, trained_model):\n",
    "    # Predicting values for evaluation\n",
    "    y_pred = trained_model.predict(X_val)\n",
    "\n",
    "    # Evaluation metrics score\n",
    "    rmsle = np.sqrt(mean_squared_log_error(y_val, y_pred))\n",
    "\n",
    "    return {'RMSLE': rmsle}\n",
    "\n",
    "\n",
    "\n",
    "\n",
    "def build_model(data: pd.DataFrame) -> dict[str, str]:\n",
    "    # Preprocessing\n",
    "    preprocessed_df = preprocessing_step(data)\n",
    "\n",
    "    # Training\n",
    "    X_val, y_val, trained_model = training_data(preprocessed_df)\n",
    "\n",
    "    # Evaluation and result\n",
    "    performance = evaluation_trained_model(X_val, y_val, trained_model)\n",
    "\n",
    "    return performance\n"
   ]
  },
  {
   "cell_type": "code",
   "execution_count": 6,
   "metadata": {
    "colab": {
     "base_uri": "https://localhost:8080/"
    },
    "id": "nzcBl85olgM0",
    "outputId": "48456405-c154-408f-da95-7c01c1e3f92d"
   },
   "outputs": [
    {
     "data": {
      "text/plain": [
       "{'RMSLE': 0.20361223177145288}"
      ]
     },
     "execution_count": 6,
     "metadata": {},
     "output_type": "execute_result"
    }
   ],
   "source": [
    "# Call the build_model function with numeric and categorical features\n",
    "result = build_model(df)\n",
    "result"
   ]
  },
  {
   "cell_type": "code",
   "execution_count": null,
   "metadata": {
    "id": "WPrn-MGSjI2X"
   },
   "outputs": [],
   "source": []
  },
  {
   "cell_type": "markdown",
   "metadata": {
    "id": "HXWadnLivmmN"
   },
   "source": [
    "## Inference"
   ]
  },
  {
   "cell_type": "code",
   "execution_count": 7,
   "metadata": {
    "id": "iJ-H_Sab7pEV"
   },
   "outputs": [
    {
     "ename": "UnicodeDecodeError",
     "evalue": "'utf-8' codec can't decode byte 0x82 in position 11: invalid start byte",
     "output_type": "error",
     "traceback": [
      "\u001b[1;31m---------------------------------------------------------------------------\u001b[0m",
      "\u001b[1;31mUnicodeDecodeError\u001b[0m                        Traceback (most recent call last)",
      "\u001b[1;32mc:\\Users\\NGESON COMPUTERS\\Earlygithub\\dsp-oluwatimileyin_victor-adedigba\\notebooks\\model_industrialization_1.ipynb Cell 13\u001b[0m line \u001b[0;36m1\n\u001b[1;32m----> <a href='vscode-notebook-cell:/c%3A/Users/NGESON%20COMPUTERS/Earlygithub/dsp-oluwatimileyin_victor-adedigba/notebooks/model_industrialization_1.ipynb#X15sZmlsZQ%3D%3D?line=0'>1</a>\u001b[0m test_raw \u001b[39m=\u001b[39m pd\u001b[39m.\u001b[39;49mread_csv(\u001b[39m'\u001b[39;49m\u001b[39m../data/test_df.parquet\u001b[39;49m\u001b[39m'\u001b[39;49m)\n\u001b[0;32m      <a href='vscode-notebook-cell:/c%3A/Users/NGESON%20COMPUTERS/Earlygithub/dsp-oluwatimileyin_victor-adedigba/notebooks/model_industrialization_1.ipynb#X15sZmlsZQ%3D%3D?line=1'>2</a>\u001b[0m test \u001b[39m=\u001b[39m test_raw\u001b[39m.\u001b[39mcopy()\n\u001b[0;32m      <a href='vscode-notebook-cell:/c%3A/Users/NGESON%20COMPUTERS/Earlygithub/dsp-oluwatimileyin_victor-adedigba/notebooks/model_industrialization_1.ipynb#X15sZmlsZQ%3D%3D?line=3'>4</a>\u001b[0m test \u001b[39m=\u001b[39m test[feature_list]\n",
      "File \u001b[1;32mc:\\Users\\NGESON COMPUTERS\\New Anaconda\\envs\\ml\\lib\\site-packages\\pandas\\io\\parsers\\readers.py:912\u001b[0m, in \u001b[0;36mread_csv\u001b[1;34m(filepath_or_buffer, sep, delimiter, header, names, index_col, usecols, dtype, engine, converters, true_values, false_values, skipinitialspace, skiprows, skipfooter, nrows, na_values, keep_default_na, na_filter, verbose, skip_blank_lines, parse_dates, infer_datetime_format, keep_date_col, date_parser, date_format, dayfirst, cache_dates, iterator, chunksize, compression, thousands, decimal, lineterminator, quotechar, quoting, doublequote, escapechar, comment, encoding, encoding_errors, dialect, on_bad_lines, delim_whitespace, low_memory, memory_map, float_precision, storage_options, dtype_backend)\u001b[0m\n\u001b[0;32m    899\u001b[0m kwds_defaults \u001b[39m=\u001b[39m _refine_defaults_read(\n\u001b[0;32m    900\u001b[0m     dialect,\n\u001b[0;32m    901\u001b[0m     delimiter,\n\u001b[1;32m   (...)\u001b[0m\n\u001b[0;32m    908\u001b[0m     dtype_backend\u001b[39m=\u001b[39mdtype_backend,\n\u001b[0;32m    909\u001b[0m )\n\u001b[0;32m    910\u001b[0m kwds\u001b[39m.\u001b[39mupdate(kwds_defaults)\n\u001b[1;32m--> 912\u001b[0m \u001b[39mreturn\u001b[39;00m _read(filepath_or_buffer, kwds)\n",
      "File \u001b[1;32mc:\\Users\\NGESON COMPUTERS\\New Anaconda\\envs\\ml\\lib\\site-packages\\pandas\\io\\parsers\\readers.py:577\u001b[0m, in \u001b[0;36m_read\u001b[1;34m(filepath_or_buffer, kwds)\u001b[0m\n\u001b[0;32m    574\u001b[0m _validate_names(kwds\u001b[39m.\u001b[39mget(\u001b[39m\"\u001b[39m\u001b[39mnames\u001b[39m\u001b[39m\"\u001b[39m, \u001b[39mNone\u001b[39;00m))\n\u001b[0;32m    576\u001b[0m \u001b[39m# Create the parser.\u001b[39;00m\n\u001b[1;32m--> 577\u001b[0m parser \u001b[39m=\u001b[39m TextFileReader(filepath_or_buffer, \u001b[39m*\u001b[39m\u001b[39m*\u001b[39mkwds)\n\u001b[0;32m    579\u001b[0m \u001b[39mif\u001b[39;00m chunksize \u001b[39mor\u001b[39;00m iterator:\n\u001b[0;32m    580\u001b[0m     \u001b[39mreturn\u001b[39;00m parser\n",
      "File \u001b[1;32mc:\\Users\\NGESON COMPUTERS\\New Anaconda\\envs\\ml\\lib\\site-packages\\pandas\\io\\parsers\\readers.py:1407\u001b[0m, in \u001b[0;36mTextFileReader.__init__\u001b[1;34m(self, f, engine, **kwds)\u001b[0m\n\u001b[0;32m   1404\u001b[0m     \u001b[39mself\u001b[39m\u001b[39m.\u001b[39moptions[\u001b[39m\"\u001b[39m\u001b[39mhas_index_names\u001b[39m\u001b[39m\"\u001b[39m] \u001b[39m=\u001b[39m kwds[\u001b[39m\"\u001b[39m\u001b[39mhas_index_names\u001b[39m\u001b[39m\"\u001b[39m]\n\u001b[0;32m   1406\u001b[0m \u001b[39mself\u001b[39m\u001b[39m.\u001b[39mhandles: IOHandles \u001b[39m|\u001b[39m \u001b[39mNone\u001b[39;00m \u001b[39m=\u001b[39m \u001b[39mNone\u001b[39;00m\n\u001b[1;32m-> 1407\u001b[0m \u001b[39mself\u001b[39m\u001b[39m.\u001b[39m_engine \u001b[39m=\u001b[39m \u001b[39mself\u001b[39;49m\u001b[39m.\u001b[39;49m_make_engine(f, \u001b[39mself\u001b[39;49m\u001b[39m.\u001b[39;49mengine)\n",
      "File \u001b[1;32mc:\\Users\\NGESON COMPUTERS\\New Anaconda\\envs\\ml\\lib\\site-packages\\pandas\\io\\parsers\\readers.py:1679\u001b[0m, in \u001b[0;36mTextFileReader._make_engine\u001b[1;34m(self, f, engine)\u001b[0m\n\u001b[0;32m   1676\u001b[0m     \u001b[39mraise\u001b[39;00m \u001b[39mValueError\u001b[39;00m(msg)\n\u001b[0;32m   1678\u001b[0m \u001b[39mtry\u001b[39;00m:\n\u001b[1;32m-> 1679\u001b[0m     \u001b[39mreturn\u001b[39;00m mapping[engine](f, \u001b[39m*\u001b[39m\u001b[39m*\u001b[39m\u001b[39mself\u001b[39m\u001b[39m.\u001b[39moptions)\n\u001b[0;32m   1680\u001b[0m \u001b[39mexcept\u001b[39;00m \u001b[39mException\u001b[39;00m:\n\u001b[0;32m   1681\u001b[0m     \u001b[39mif\u001b[39;00m \u001b[39mself\u001b[39m\u001b[39m.\u001b[39mhandles \u001b[39mis\u001b[39;00m \u001b[39mnot\u001b[39;00m \u001b[39mNone\u001b[39;00m:\n",
      "File \u001b[1;32mc:\\Users\\NGESON COMPUTERS\\New Anaconda\\envs\\ml\\lib\\site-packages\\pandas\\io\\parsers\\c_parser_wrapper.py:93\u001b[0m, in \u001b[0;36mCParserWrapper.__init__\u001b[1;34m(self, src, **kwds)\u001b[0m\n\u001b[0;32m     90\u001b[0m \u001b[39mif\u001b[39;00m kwds[\u001b[39m\"\u001b[39m\u001b[39mdtype_backend\u001b[39m\u001b[39m\"\u001b[39m] \u001b[39m==\u001b[39m \u001b[39m\"\u001b[39m\u001b[39mpyarrow\u001b[39m\u001b[39m\"\u001b[39m:\n\u001b[0;32m     91\u001b[0m     \u001b[39m# Fail here loudly instead of in cython after reading\u001b[39;00m\n\u001b[0;32m     92\u001b[0m     import_optional_dependency(\u001b[39m\"\u001b[39m\u001b[39mpyarrow\u001b[39m\u001b[39m\"\u001b[39m)\n\u001b[1;32m---> 93\u001b[0m \u001b[39mself\u001b[39m\u001b[39m.\u001b[39m_reader \u001b[39m=\u001b[39m parsers\u001b[39m.\u001b[39mTextReader(src, \u001b[39m*\u001b[39m\u001b[39m*\u001b[39mkwds)\n\u001b[0;32m     95\u001b[0m \u001b[39mself\u001b[39m\u001b[39m.\u001b[39munnamed_cols \u001b[39m=\u001b[39m \u001b[39mself\u001b[39m\u001b[39m.\u001b[39m_reader\u001b[39m.\u001b[39munnamed_cols\n\u001b[0;32m     97\u001b[0m \u001b[39m# error: Cannot determine type of 'names'\u001b[39;00m\n",
      "File \u001b[1;32mc:\\Users\\NGESON COMPUTERS\\New Anaconda\\envs\\ml\\lib\\site-packages\\pandas\\_libs\\parsers.pyx:550\u001b[0m, in \u001b[0;36mpandas._libs.parsers.TextReader.__cinit__\u001b[1;34m()\u001b[0m\n",
      "File \u001b[1;32mc:\\Users\\NGESON COMPUTERS\\New Anaconda\\envs\\ml\\lib\\site-packages\\pandas\\_libs\\parsers.pyx:639\u001b[0m, in \u001b[0;36mpandas._libs.parsers.TextReader._get_header\u001b[1;34m()\u001b[0m\n",
      "File \u001b[1;32mc:\\Users\\NGESON COMPUTERS\\New Anaconda\\envs\\ml\\lib\\site-packages\\pandas\\_libs\\parsers.pyx:850\u001b[0m, in \u001b[0;36mpandas._libs.parsers.TextReader._tokenize_rows\u001b[1;34m()\u001b[0m\n",
      "File \u001b[1;32mc:\\Users\\NGESON COMPUTERS\\New Anaconda\\envs\\ml\\lib\\site-packages\\pandas\\_libs\\parsers.pyx:861\u001b[0m, in \u001b[0;36mpandas._libs.parsers.TextReader._check_tokenize_status\u001b[1;34m()\u001b[0m\n",
      "File \u001b[1;32mc:\\Users\\NGESON COMPUTERS\\New Anaconda\\envs\\ml\\lib\\site-packages\\pandas\\_libs\\parsers.pyx:2021\u001b[0m, in \u001b[0;36mpandas._libs.parsers.raise_parser_error\u001b[1;34m()\u001b[0m\n",
      "\u001b[1;31mUnicodeDecodeError\u001b[0m: 'utf-8' codec can't decode byte 0x82 in position 11: invalid start byte"
     ]
    }
   ],
   "source": [
    "test_raw = pd.read_csv('../data/test_df.parquet')\n",
    "test = test_raw.copy()\n",
    "\n",
    "test = test[feature_list]"
   ]
  },
  {
   "cell_type": "code",
   "execution_count": 8,
   "metadata": {
    "id": "9RvfAmmFvqql"
   },
   "outputs": [],
   "source": [
    "def scale_numeric(df):\n",
    "  scaler = joblib.load(model_scaler_1)\n",
    "  scaled_data = scaler.transform(df[numeric_features])\n",
    "  scaled_df = pd.DataFrame(data=scaled_data, columns=numeric_features)\n",
    "  return scaled_df\n",
    "\n",
    "\n",
    "\n",
    "def encode_categorical(df):\n",
    "  encoder = joblib.load(model_encoder_1)\n",
    "  encoded_data = encoder.transform(df[categorical_features])\n",
    "  encoded_df = pd.DataFrame(data=encoded_data, columns=categorical_features)\n",
    "  return encoded_df\n",
    "\n",
    "\n",
    "\n",
    "\n",
    "def preprocessing_step(df):\n",
    "#   #scaling\n",
    "   output_scale = scale_numeric(df)\n",
    "#   #encode cat\n",
    "   output_encode = encode_categorical(df)\n",
    "#   #Feature engineering by combining\n",
    "   preprocessed_output = comb_scal_enco(output_scale, output_encode)\n",
    "   return preprocessed_output\n",
    "\n",
    "\n",
    "def make_predictions(input_data: pd.DataFrame) -> np.ndarray:\n",
    "  #preprocessing dataframe\n",
    "  preprocessed_data = preprocessing_step(input_data)\n",
    "\n",
    "  # #Loading the model\n",
    "  model = joblib.load(model_store)\n",
    "\n",
    "  prediction = model.predict(preprocessed_data)\n",
    "\n",
    "  return prediction\n",
    "\n"
   ]
  },
  {
   "cell_type": "code",
   "execution_count": 9,
   "metadata": {
    "colab": {
     "base_uri": "https://localhost:8080/"
    },
    "id": "N-aYVCBO71j-",
    "outputId": "fa7d65d5-3015-49de-d923-8a61513307f5"
   },
   "outputs": [
    {
     "data": {
      "text/plain": [
       "array([156457.08565053, 187653.43843743, 219465.81430615, ...,\n",
       "       231850.35648543, 150269.60302678, 232055.46813541])"
      ]
     },
     "execution_count": 9,
     "metadata": {},
     "output_type": "execute_result"
    }
   ],
   "source": [
    "result11 = make_predictions(test)\n",
    "result11"
   ]
  },
  {
   "cell_type": "code",
   "execution_count": null,
   "metadata": {},
   "outputs": [],
   "source": []
  }
 ],
 "metadata": {
  "colab": {
   "provenance": []
  },
  "kernelspec": {
   "display_name": "Python 3 (ipykernel)",
   "language": "python",
   "name": "python3"
  },
  "language_info": {
   "codemirror_mode": {
    "name": "ipython",
    "version": 3
   },
   "file_extension": ".py",
   "mimetype": "text/x-python",
   "name": "python",
   "nbconvert_exporter": "python",
   "pygments_lexer": "ipython3",
   "version": "3.9.18"
  }
 },
 "nbformat": 4,
 "nbformat_minor": 1
}
